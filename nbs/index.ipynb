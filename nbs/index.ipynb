{
 "cells": [
  {
   "cell_type": "code",
   "execution_count": null,
   "metadata": {},
   "outputs": [],
   "source": [
    "#| hide\n",
    "from verus.core import *"
   ]
  },
  {
   "cell_type": "markdown",
   "metadata": {},
   "source": [
    "# verus\n",
    "\n",
    "> runs your ML pipeline code on your infrastructure"
   ]
  },
  {
   "cell_type": "markdown",
   "metadata": {},
   "source": [
    "This file will become your README and also the index of your documentation."
   ]
  },
  {
   "cell_type": "markdown",
   "metadata": {},
   "source": [
    "## Install"
   ]
  },
  {
   "attachments": {},
   "cell_type": "markdown",
   "metadata": {},
   "source": [
    "```sh\n",
    "git clone '<repo-containing-source>'\n",
    "docker pull datachimp/verus\n",
    "docker run \\\n",
    "  -v '<path-to-repo-containing-source>:/data_chimp/source' \\ \n",
    "  -v '/var/run/docker.sock:/var/run/docker.sock' \\ \n",
    "  datachimp/verus\n",
    "```"
   ]
  },
  {
   "cell_type": "markdown",
   "metadata": {},
   "source": [
    "## How to use"
   ]
  },
  {
   "cell_type": "markdown",
   "metadata": {},
   "source": [
    "Fill me in please! Don't forget code examples:"
   ]
  }
 ],
 "metadata": {
  "kernelspec": {
   "display_name": "Python 3",
   "language": "python",
   "name": "python3"
  },
  "language_info": {
   "name": "python",
   "version": "3.11.1 (main, Dec 12 2022, 12:11:53) [Clang 13.1.6 (clang-1316.0.21.2.5)]"
  },
  "vscode": {
   "interpreter": {
    "hash": "13523e3cd1fbae48a3d0ca7b45a7084217927e918d7de376d1166dc0bc3d46c7"
   }
  }
 },
 "nbformat": 4,
 "nbformat_minor": 4
}
